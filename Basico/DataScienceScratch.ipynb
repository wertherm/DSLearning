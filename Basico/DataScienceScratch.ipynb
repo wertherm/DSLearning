{
 "cells": [
  {
   "cell_type": "code",
   "execution_count": 6,
   "id": "d428d041",
   "metadata": {},
   "outputs": [
    {
     "name": "stdout",
     "output_type": "stream",
     "text": [
      "24\n"
     ]
    }
   ],
   "source": [
    "#Lista de usuários, cada um representado por um dict\n",
    "users = [\n",
    "    {\"id\": 0, \"Hero\":\"\"},\n",
    "    {\"id\": 1, \"Dunn\":\"\"},\n",
    "    {\"id\": 2, \"Sue\":\"\"},\n",
    "    {\"id\": 3, \"Chi\":\"\"},\n",
    "    {\"id\": 4, \"Thor\":\"\"},\n",
    "    {\"id\": 5, \"Clive\":\"\"},\n",
    "    {\"id\": 6, \"Hicks\":\"\"},\n",
    "    {\"id\": 7, \"Devin\":\"\"},\n",
    "    {\"id\": 8, \"Kate\":\"\"},\n",
    "    {\"id\": 9, \"Klein\":\"\"}\n",
    "]\n",
    "\n",
    "#Tuplas\n",
    "friendships = [(0,1),(0,2),(1,2),(1,3),(2,3),(3,4),(4,5),(5,6),(5,7),(6,8),(7,8),(8,9)]\n",
    "\n",
    "#Adicionando uma nova propriedade \"friends\" ao dict de cada usuário, com uma lista vazia\n",
    "for user in users:\n",
    "    user[\"friends\"] = []\n",
    "\n",
    "#Populando as listas vazias \"friends\" de cada usuário, com os dados de friendships\n",
    "for i,j in friendships:\n",
    "    users[i][\"friends\"].append(users[j]) #Adiciona i como um amigo de j\n",
    "    users[j][\"friends\"].append(users[i]) #Adiciona j como um amigo de i\n",
    "\n",
    "#Retorna o número total de conexões\n",
    "def number_of_friends(user):\n",
    "    return len(user[\"friends\"])\n",
    "\n",
    "#Somando todas as conexões\n",
    "total_connections = sum(number_of_friends(user) for user in users)\n",
    "\n",
    "print(total_connections)"
   ]
  },
  {
   "cell_type": "code",
   "execution_count": 9,
   "id": "f76d839b",
   "metadata": {},
   "outputs": [
    {
     "name": "stdout",
     "output_type": "stream",
     "text": [
      "2.4\n"
     ]
    }
   ],
   "source": [
    "#Calcula a média de conexões\n",
    "\n",
    "from __future__ import division\n",
    "\n",
    "num_users = len(users)\n",
    "avg_connections = total_connections / num_users\n",
    "\n",
    "print(avg_connections)"
   ]
  },
  {
   "cell_type": "code",
   "execution_count": null,
   "id": "007549fc",
   "metadata": {},
   "outputs": [],
   "source": [
    "#Calcula os usuários mais conectados (que possuem mais amigos)"
   ]
  }
 ],
 "metadata": {
  "kernelspec": {
   "display_name": "Python 3 (ipykernel)",
   "language": "python",
   "name": "python3"
  },
  "language_info": {
   "codemirror_mode": {
    "name": "ipython",
    "version": 3
   },
   "file_extension": ".py",
   "mimetype": "text/x-python",
   "name": "python",
   "nbconvert_exporter": "python",
   "pygments_lexer": "ipython3",
   "version": "3.9.7"
  }
 },
 "nbformat": 4,
 "nbformat_minor": 5
}
