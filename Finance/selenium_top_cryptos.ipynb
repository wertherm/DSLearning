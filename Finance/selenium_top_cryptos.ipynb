{
 "cells": [
  {
   "cell_type": "code",
   "execution_count": 8,
   "id": "59b9f04a",
   "metadata": {},
   "outputs": [],
   "source": [
    "#Insights\n",
    "\n",
    "#Data and Research Services\n",
    "#   Glassnode\n",
    "#   The Block\n",
    "#   Cryptoquant\n",
    "#   Messari\n",
    "#   Coinmetrics\n",
    "#   Santiment\n",
    "#   IntoTheBlock\n",
    "#   Ecoinometrics\n",
    "#   Dune\n",
    "#   DataLight\n",
    "\n",
    "#Todos os indicadores devem ser registrados dia-dia em um csv.\n",
    "#Quando ocorrer uma correção forte, você deve olhar o \"Historical Data Snapshot\" de pelo menos uma semana.\n",
    "#Assim você identificará padrões que podem ter levado a queda.\n",
    "\n",
    "#Prováveis causas da correção de 20% em setembro de 2021:\n",
    "#Open Interests acima de 1,55% no Bitcoin, mostrando um grande volume de alavancagem\n",
    "#   https://www.theblockcrypto.com/data/crypto-markets/futures\n",
    "#   https://www.coingecko.com/en/derivatives\n",
    "#Netflow das CEXs, acima de 1 bilhão em apenas uma semana, provavelmente com a intenção de vender\n",
    "#   https://cryptoquant.com/overview/full/474\n",
    "#Miner Reserves caindo para mais de 100K de unidades de Bitcoins em poucos dias\n",
    "#   https://www.theblockcrypto.com/data/on-chain-metrics/bitcoin/bitcoin-miner-revenue-monthly\n",
    "\n",
    "#Social\n",
    "#Menções sociais, são tweets de perfis relevantes. Mostrar a quantidade de menções.\n",
    "#Engajamento Social, são comentários, curtidas e reteets\n",
    "#Análise de sentimento das menções sociais e do engajamento social"
   ]
  },
  {
   "cell_type": "code",
   "execution_count": 2,
   "id": "787e5f2d",
   "metadata": {},
   "outputs": [
    {
     "name": "stdout",
     "output_type": "stream",
     "text": [
      "/home/ecotrace/.local/lib/python3.8/site-packages/pkg_resources/__init__.py:123: PkgResourcesDeprecationWarning: 1.16.0-unknown is an invalid version and will not be supported in a future release\n",
      "  warnings.warn(\n",
      "/home/ecotrace/.local/lib/python3.8/site-packages/pkg_resources/__init__.py:123: PkgResourcesDeprecationWarning: 0.23ubuntu1 is an invalid version and will not be supported in a future release\n",
      "  warnings.warn(\n",
      "/home/ecotrace/.local/lib/python3.8/site-packages/pkg_resources/__init__.py:123: PkgResourcesDeprecationWarning: 0.1.36ubuntu1 is an invalid version and will not be supported in a future release\n",
      "  warnings.warn(\n",
      "/home/ecotrace/.local/lib/python3.8/site-packages/pkg_resources/__init__.py:123: PkgResourcesDeprecationWarning: 1.16.0-unknown is an invalid version and will not be supported in a future release\n",
      "  warnings.warn(\n",
      "/home/ecotrace/.local/lib/python3.8/site-packages/pkg_resources/__init__.py:123: PkgResourcesDeprecationWarning: 0.23ubuntu1 is an invalid version and will not be supported in a future release\n",
      "  warnings.warn(\n",
      "/home/ecotrace/.local/lib/python3.8/site-packages/pkg_resources/__init__.py:123: PkgResourcesDeprecationWarning: 0.1.36ubuntu1 is an invalid version and will not be supported in a future release\n",
      "  warnings.warn(\n",
      "Collecting selenium\n",
      "  Downloading selenium-4.7.2-py3-none-any.whl (6.3 MB)\n",
      "\u001b[K     |████████████████████████████████| 6.3 MB 8.4 MB/s eta 0:00:01\n",
      "\u001b[?25hCollecting urllib3[socks]~=1.26\n",
      "  Downloading urllib3-1.26.13-py2.py3-none-any.whl (140 kB)\n",
      "\u001b[K     |████████████████████████████████| 140 kB 65.9 MB/s eta 0:00:01\n",
      "\u001b[?25hCollecting trio~=0.17\n",
      "  Downloading trio-0.22.0-py3-none-any.whl (384 kB)\n",
      "\u001b[K     |████████████████████████████████| 384 kB 40.3 MB/s eta 0:00:01\n",
      "\u001b[?25hCollecting trio-websocket~=0.9\n",
      "  Downloading trio_websocket-0.9.2-py3-none-any.whl (16 kB)\n",
      "Collecting certifi>=2021.10.8\n",
      "  Downloading certifi-2022.12.7-py3-none-any.whl (155 kB)\n",
      "\u001b[K     |████████████████████████████████| 155 kB 44.0 MB/s eta 0:00:01\n",
      "\u001b[?25hCollecting PySocks!=1.5.7,<2.0,>=1.5.6; extra == \"socks\"\n",
      "  Downloading PySocks-1.7.1-py3-none-any.whl (16 kB)\n",
      "Requirement already satisfied: attrs>=19.2.0 in /home/ecotrace/.local/lib/python3.8/site-packages (from trio~=0.17->selenium) (21.4.0)\n",
      "Collecting sortedcontainers\n",
      "  Downloading sortedcontainers-2.4.0-py2.py3-none-any.whl (29 kB)\n",
      "Collecting async-generator>=1.9\n",
      "  Downloading async_generator-1.10-py3-none-any.whl (18 kB)\n",
      "Requirement already satisfied: idna in /usr/lib/python3/dist-packages (from trio~=0.17->selenium) (2.8)\n",
      "Collecting outcome\n",
      "  Downloading outcome-1.2.0-py2.py3-none-any.whl (9.7 kB)\n",
      "Requirement already satisfied: sniffio in /usr/local/lib/python3.8/dist-packages (from trio~=0.17->selenium) (1.3.0)\n",
      "Collecting exceptiongroup>=1.0.0rc9; python_version < \"3.11\"\n",
      "  Downloading exceptiongroup-1.1.0-py3-none-any.whl (14 kB)\n",
      "Collecting wsproto>=0.14\n",
      "  Downloading wsproto-1.2.0-py3-none-any.whl (24 kB)\n",
      "Requirement already satisfied: h11<1,>=0.9.0 in /usr/local/lib/python3.8/dist-packages (from wsproto>=0.14->trio-websocket~=0.9->selenium) (0.9.0)\n",
      "Installing collected packages: PySocks, urllib3, sortedcontainers, async-generator, outcome, exceptiongroup, trio, wsproto, trio-websocket, certifi, selenium\n",
      "Successfully installed PySocks-1.7.1 async-generator-1.10 certifi-2022.12.7 exceptiongroup-1.1.0 outcome-1.2.0 selenium-4.7.2 sortedcontainers-2.4.0 trio-0.22.0 trio-websocket-0.9.2 urllib3-1.26.13 wsproto-1.2.0\n"
     ]
    }
   ],
   "source": [
    "!pip install selenium"
   ]
  },
  {
   "cell_type": "code",
   "execution_count": null,
   "id": "926061eb",
   "metadata": {},
   "outputs": [],
   "source": [
    "#from time import sleep\n",
    "#from selenium import webdriver\n",
    "\n",
    "# this is tested on Firefox or you can use \"webdriver.Chrome()\"\n",
    "#browser = webdriver.Chrome()\n",
    "#browser.get('https://www.facebook.com/')\n",
    "\n",
    "#sleep(5)\n",
    "#browser.close()"
   ]
  },
  {
   "cell_type": "code",
   "execution_count": 3,
   "id": "f4fdb9a4",
   "metadata": {},
   "outputs": [],
   "source": [
    "import csv\n",
    "from selenium.webdriver.common.keys import Keys\n",
    "from selenium.common.exceptions import NoSuchElementException\n",
    "from selenium.webdriver import Chrome"
   ]
  },
  {
   "cell_type": "code",
   "execution_count": 4,
   "id": "801a3593",
   "metadata": {},
   "outputs": [],
   "source": [
    "driver = Chrome()"
   ]
  },
  {
   "cell_type": "code",
   "execution_count": 5,
   "id": "e5784256",
   "metadata": {},
   "outputs": [],
   "source": [
    "driver.get('https://coinmarketcap.com/trending-cryptocurrencies')"
   ]
  },
  {
   "cell_type": "code",
   "execution_count": 15,
   "id": "0567d60e",
   "metadata": {},
   "outputs": [
    {
     "ename": "TypeError",
     "evalue": "object of type 'WebElement' has no len()",
     "output_type": "error",
     "traceback": [
      "\u001b[0;31m---------------------------------------------------------------------------\u001b[0m",
      "\u001b[0;31mTypeError\u001b[0m                                 Traceback (most recent call last)",
      "Cell \u001b[0;32mIn[15], line 2\u001b[0m\n\u001b[1;32m      1\u001b[0m \u001b[39m#nlins = len(driver.find_element(\"xpath\", '//*[@id=\"__next\"]/div[1]/div[1]/div[2]/div/div/div[2]/table/tbody/tr'))\u001b[39;00m\n\u001b[0;32m----> 2\u001b[0m nlins \u001b[39m=\u001b[39m \u001b[39mlen\u001b[39;49m(driver\u001b[39m.\u001b[39;49mfind_element(\u001b[39m\"\u001b[39;49m\u001b[39mxpath\u001b[39;49m\u001b[39m\"\u001b[39;49m, \u001b[39m'\u001b[39;49m\u001b[39m//*[@id=\u001b[39;49m\u001b[39m\"\u001b[39;49m\u001b[39m__next\u001b[39;49m\u001b[39m\"\u001b[39;49m\u001b[39m]/div/div[1]/div[2]/div/div/div[2]/table/tbody\u001b[39;49m\u001b[39m'\u001b[39;49m))\n\u001b[1;32m      3\u001b[0m \u001b[39m#ncols = len(driver.find_element(\"xpath\", '//*[@id=\"__next\"]/div[1]/div[1]/div[2]/div/div/div[2]/table/tbody/tr[1]/td'))\u001b[39;00m\n",
      "\u001b[0;31mTypeError\u001b[0m: object of type 'WebElement' has no len()"
     ]
    }
   ],
   "source": [
    "#nlins = len(driver.find_element(\"xpath\", '//*[@id=\"__next\"]/div[1]/div[1]/div[2]/div/div/div[2]/table/tbody/tr'))\n",
    "nlins = len(driver.find_element(\"xpath\", '//*[@id=\"__next\"]/div/div[1]/div[2]/div/div/div[2]/table/tbody'))\n",
    "#ncols = len(driver.find_element(\"xpath\", '//*[@id=\"__next\"]/div[1]/div[1]/div[2]/div/div/div[2]/table/tbody/tr[1]/td'))"
   ]
  },
  {
   "cell_type": "code",
   "execution_count": 5,
   "id": "85a496fa",
   "metadata": {},
   "outputs": [
    {
     "name": "stdout",
     "output_type": "stream",
     "text": [
      "30\n",
      "11\n"
     ]
    }
   ],
   "source": [
    "print(nlins)\n",
    "print(ncols)"
   ]
  },
  {
   "cell_type": "code",
   "execution_count": 6,
   "id": "04ca5811",
   "metadata": {},
   "outputs": [],
   "source": [
    "#element = driver.find_element_by_xpath('//*[contains(@class,\"sc-1eb5slv-0 iworPT\")]') #Não interável\n",
    "elements = driver.find_elements_by_xpath('//*[contains(@class,\"sc-1eb5slv-0 iworPT\")]')"
   ]
  },
  {
   "cell_type": "code",
   "execution_count": 7,
   "id": "41629e5c",
   "metadata": {},
   "outputs": [
    {
     "name": "stdout",
     "output_type": "stream",
     "text": [
      "Solana\n",
      "Avalaunch\n",
      "Moonriver\n",
      "Kalata\n",
      "Boost Coin\n",
      "MiniSports Token\n",
      "BENQI\n",
      "The Rare Antiquities Token\n",
      "SHIBA INU\n",
      "Celer Network\n",
      "Avalanche\n",
      "FTX Token\n",
      "Binance Coin\n",
      "TRON\n",
      "Bitcoin\n",
      "Fantom\n",
      "Serum\n",
      "Coco Swap\n",
      "NEAR Protocol\n",
      "Cosmos\n",
      "Internet Computer\n",
      "Harmony\n",
      "Reef\n",
      "BitTorrent\n",
      "VeChain\n",
      "Algorand\n",
      "Automata Network\n",
      "ADAX\n",
      "Shiden Network\n",
      "TheForce Trade\n"
     ]
    }
   ],
   "source": [
    "for e in elements:\n",
    "    print(e.text)"
   ]
  }
 ],
 "metadata": {
  "kernelspec": {
   "display_name": "Python 3.8.10 64-bit",
   "language": "python",
   "name": "python3"
  },
  "language_info": {
   "codemirror_mode": {
    "name": "ipython",
    "version": 3
   },
   "file_extension": ".py",
   "mimetype": "text/x-python",
   "name": "python",
   "nbconvert_exporter": "python",
   "pygments_lexer": "ipython3",
   "version": "3.8.10"
  },
  "vscode": {
   "interpreter": {
    "hash": "916dbcbb3f70747c44a77c7bcd40155683ae19c65e1c03b4aa3499c5328201f1"
   }
  }
 },
 "nbformat": 4,
 "nbformat_minor": 5
}
