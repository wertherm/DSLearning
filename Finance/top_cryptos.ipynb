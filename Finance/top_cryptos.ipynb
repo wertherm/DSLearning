{
 "cells": [
  {
   "cell_type": "code",
   "execution_count": 8,
   "id": "59b9f04a",
   "metadata": {},
   "outputs": [],
   "source": [
    "#Insights\n",
    "\n",
    "#Data and Research Services\n",
    "#   Glassnode\n",
    "#   The Block\n",
    "#   Cryptoquant\n",
    "#   Messari\n",
    "#   Coinmetrics\n",
    "#   Santiment\n",
    "#   IntoTheBlock\n",
    "#   Ecoinometrics\n",
    "#   Dune\n",
    "#   DataLight\n",
    "\n",
    "#Todos os indicadores devem ser registrados dia-dia em um csv.\n",
    "#Quando ocorrer uma correção forte, você deve olhar o \"Historical Data Snapshot\" de pelo menos uma semana.\n",
    "#Assim você identificará padrões que podem ter levado a queda.\n",
    "\n",
    "#Prováveis causas da correção de 20% em setembro de 2021:\n",
    "#Open Interests acima de 1,55% no Bitcoin, mostrando um grande volume de alavancagem\n",
    "#   https://www.theblockcrypto.com/data/crypto-markets/futures\n",
    "#   https://www.coingecko.com/en/derivatives\n",
    "#Netflow das CEXs, acima de 1 bilhão em apenas uma semana, provavelmente com a intenção de vender\n",
    "#   https://cryptoquant.com/overview/full/474\n",
    "#Miner Reserves caindo para mais de 100K de unidades de Bitcoins em poucos dias\n",
    "#   https://www.theblockcrypto.com/data/on-chain-metrics/bitcoin/bitcoin-miner-revenue-monthly\n",
    "\n",
    "#Social\n",
    "#Menções sociais, são tweets de perfis relevantes. Mostrar a quantidade de menções.\n",
    "#Engajamento Social, são comentários, curtidas e reteets\n",
    "#Análise de sentimento das menções sociais e do engajamento social"
   ]
  },
  {
   "cell_type": "code",
   "execution_count": null,
   "id": "926061eb",
   "metadata": {},
   "outputs": [],
   "source": [
    "#from time import sleep\n",
    "#from selenium import webdriver\n",
    "\n",
    "# this is tested on Firefox or you can use \"webdriver.Chrome()\"\n",
    "#browser = webdriver.Chrome()\n",
    "#browser.get('https://www.facebook.com/')\n",
    "\n",
    "#sleep(5)\n",
    "#browser.close()"
   ]
  },
  {
   "cell_type": "code",
   "execution_count": 1,
   "id": "f4fdb9a4",
   "metadata": {},
   "outputs": [],
   "source": [
    "import csv\n",
    "from selenium.webdriver.common.keys import Keys\n",
    "from selenium.common.exceptions import NoSuchElementException\n",
    "from selenium.webdriver import Chrome"
   ]
  },
  {
   "cell_type": "code",
   "execution_count": 2,
   "id": "801a3593",
   "metadata": {},
   "outputs": [],
   "source": [
    "driver = Chrome()"
   ]
  },
  {
   "cell_type": "code",
   "execution_count": 3,
   "id": "e5784256",
   "metadata": {},
   "outputs": [],
   "source": [
    "driver.get('https://coinmarketcap.com/trending-cryptocurrencies')"
   ]
  },
  {
   "cell_type": "code",
   "execution_count": 4,
   "id": "0567d60e",
   "metadata": {},
   "outputs": [],
   "source": [
    "nlins = len(driver.find_elements_by_xpath('//*[@id=\"__next\"]/div[1]/div[1]/div[2]/div/div/div[2]/table/tbody/tr'))\n",
    "ncols = len(driver.find_elements_by_xpath('//*[@id=\"__next\"]/div[1]/div[1]/div[2]/div/div/div[2]/table/tbody/tr[1]/td'))"
   ]
  },
  {
   "cell_type": "code",
   "execution_count": 5,
   "id": "85a496fa",
   "metadata": {},
   "outputs": [
    {
     "name": "stdout",
     "output_type": "stream",
     "text": [
      "30\n",
      "11\n"
     ]
    }
   ],
   "source": [
    "print(nlins)\n",
    "print(ncols)"
   ]
  },
  {
   "cell_type": "code",
   "execution_count": 6,
   "id": "04ca5811",
   "metadata": {},
   "outputs": [],
   "source": [
    "#element = driver.find_element_by_xpath('//*[contains(@class,\"sc-1eb5slv-0 iworPT\")]') #Não interável\n",
    "elements = driver.find_elements_by_xpath('//*[contains(@class,\"sc-1eb5slv-0 iworPT\")]')"
   ]
  },
  {
   "cell_type": "code",
   "execution_count": 7,
   "id": "41629e5c",
   "metadata": {},
   "outputs": [
    {
     "name": "stdout",
     "output_type": "stream",
     "text": [
      "Solana\n",
      "Avalaunch\n",
      "Moonriver\n",
      "Kalata\n",
      "Boost Coin\n",
      "MiniSports Token\n",
      "BENQI\n",
      "The Rare Antiquities Token\n",
      "SHIBA INU\n",
      "Celer Network\n",
      "Avalanche\n",
      "FTX Token\n",
      "Binance Coin\n",
      "TRON\n",
      "Bitcoin\n",
      "Fantom\n",
      "Serum\n",
      "Coco Swap\n",
      "NEAR Protocol\n",
      "Cosmos\n",
      "Internet Computer\n",
      "Harmony\n",
      "Reef\n",
      "BitTorrent\n",
      "VeChain\n",
      "Algorand\n",
      "Automata Network\n",
      "ADAX\n",
      "Shiden Network\n",
      "TheForce Trade\n"
     ]
    }
   ],
   "source": [
    "for e in elements:\n",
    "    print(e.text)"
   ]
  },
  {
   "cell_type": "code",
   "execution_count": null,
   "id": "378edc0c",
   "metadata": {},
   "outputs": [],
   "source": []
  }
 ],
 "metadata": {
  "kernelspec": {
   "display_name": "Python 3.8.10 64-bit",
   "language": "python",
   "name": "python3"
  },
  "language_info": {
   "codemirror_mode": {
    "name": "ipython",
    "version": 3
   },
   "file_extension": ".py",
   "mimetype": "text/x-python",
   "name": "python",
   "nbconvert_exporter": "python",
   "pygments_lexer": "ipython3",
   "version": "3.8.10"
  },
  "vscode": {
   "interpreter": {
    "hash": "916dbcbb3f70747c44a77c7bcd40155683ae19c65e1c03b4aa3499c5328201f1"
   }
  }
 },
 "nbformat": 4,
 "nbformat_minor": 5
}
